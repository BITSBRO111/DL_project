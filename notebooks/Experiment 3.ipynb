{
 "cells": [
  {
   "cell_type": "code",
   "execution_count": null,
   "metadata": {
    "vscode": {
     "languageId": "plaintext"
    }
   },
   "outputs": [],
   "source": [
    "import pandas as pd\n",
    "from your_module import train_model_with_regularization\n",
    "\n",
    "def experiment_3(df):\n",
    "    # Regularization Techniques for Improved Generalization\n",
    "    model_name = 'bert-base-uncased'\n",
    "    num_classes = 2\n",
    "    max_len = 160\n",
    "    batch_size = 32\n",
    "    epochs = 4\n",
    "    dropout_values = [0.1, 0.3, 0.5]  # Experiment with different dropout rates\n",
    "    weight_decay_values = [0.01, 0.001, 0.0001]  # Experiment with different weight decay values\n",
    "\n",
    "    for dropout in dropout_values:\n",
    "        for weight_decay in weight_decay_values:\n",
    "            print(f\"Training with dropout: {dropout} and weight decay: {weight_decay}\")\n",
    "            train_model_with_regularization(df, model_name, num_classes, max_len, batch_size, epochs, dropout, weight_decay)\n",
    "\n",
    "if __name__ == '__main__':\n",
    "    sentiment_df = pd.read_csv(\"DL_repo/data/processed/sentiment_analysis_processed.csv\")\n",
    "    experiment_3(sentiment_df)\n",
    "\n"
   ]
  }
 ],
 "metadata": {
  "language_info": {
   "name": "python"
  }
 },
 "nbformat": 4,
 "nbformat_minor": 2
}
