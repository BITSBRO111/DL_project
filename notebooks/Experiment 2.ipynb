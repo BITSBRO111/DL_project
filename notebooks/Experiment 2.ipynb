{
 "cells": [
  {
   "cell_type": "code",
   "execution_count": null,
   "metadata": {
    "vscode": {
     "languageId": "plaintext"
    }
   },
   "outputs": [],
   "source": [
    "import pandas as pd\n",
    "import torch\n",
    "from sklearn.metrics import accuracy_score, classification_report\n",
    "from transformers import BertTokenizer\n",
    "from your_module import create_dataset, train_model\n",
    "\n",
    "def experiment_2(df):\n",
    "    # Fine-Tuning Pre-Trained BERT for Text Classification\n",
    "    model_name = 'bert-base-uncased'\n",
    "    num_classes = 2\n",
    "    max_len = 160\n",
    "    batch_size = 32\n",
    "    epochs = 4\n",
    "    learning_rate = 2e-5\n",
    "\n",
    "    # Split the dataset into training and validation\n",
    "    train_df, val_df = df[:int(0.9*len(df))], df[int(0.9*len(df)):]\n",
    "\n",
    "    train_model(train_df, model_name, num_classes, max_len, batch_size, epochs, learning_rate)\n",
    "\n",
    "    # Evaluate on the validation set\n",
    "    eval_results = evaluate_model(val_df, model_name, max_len, batch_size)\n",
    "    \n",
    "    accuracy = accuracy_score(eval_results['true_label'], eval_results['predicted_label'])\n",
    "    report = classification_report(eval_results['true_label'], eval_results['predicted_label'])\n",
    "    print(f\"Experiment 2 Results using BERT Fine-Tuning:\\n{report}\")\n",
    "\n",
    "if __name__ == '__main__':\n",
    "    sentiment_df = pd.read_csv(\"DL_repo/data/processed/sentiment_analysis_processed.csv\")\n",
    "    experiment_2(sentiment_df)\n",
    "\n"
   ]
  }
 ],
 "metadata": {
  "language_info": {
   "name": "python"
  }
 },
 "nbformat": 4,
 "nbformat_minor": 2
}
