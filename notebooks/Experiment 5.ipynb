{
 "cells": [
  {
   "cell_type": "code",
   "execution_count": null,
   "metadata": {
    "vscode": {
     "languageId": "plaintext"
    }
   },
   "outputs": [],
   "source": [
    "import pandas as pd\n",
    "from your_module import evaluate_model\n",
    "\n",
    "def experiment_5(df):\n",
    "    # Error Analysis and Model Adjustment\n",
    "    model_name = 'bert-base-uncased'\n",
    "    num_classes = 2\n",
    "    max_len = 160\n",
    "    batch_size = 32\n",
    "    epochs = 4\n",
    "    learning_rate = 2e-5\n",
    "\n",
    "    # Train the model\n",
    "    train_model(df, model_name, num_classes, max_len, batch_size, epochs, learning_rate)\n",
    "\n",
    "    # Evaluate on the full dataset\n",
    "    eval_results = evaluate_model(df, model_name, max_len, batch_size)\n",
    "    \n",
    "    # Detailed error analysis\n",
    "    errors = {\n",
    "        'true_label': eval_results['true_label'],\n",
    "        'predicted_label': eval_results['predicted_label']\n",
    "    }\n",
    "    print(f\"Experiment 5 Error Analysis:\\n{errors}\")\n",
    "\n",
    "if __name__ == '__main__':\n",
    "    sentiment_df = pd.read_csv(\"DL_repo/data/processed/sentiment_analysis_processed.csv\")\n",
    "    experiment_5(sentiment_df)\n"
   ]
  }
 ],
 "metadata": {
  "language_info": {
   "name": "python"
  }
 },
 "nbformat": 4,
 "nbformat_minor": 2
}
