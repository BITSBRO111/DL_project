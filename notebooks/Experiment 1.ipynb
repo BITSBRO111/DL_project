{
 "cells": [
  {
   "cell_type": "code",
   "execution_count": null,
   "metadata": {
    "vscode": {
     "languageId": "plaintext"
    }
   },
   "outputs": [],
   "source": [
    "import os\n",
    "import pandas as pd\n",
    "import torch\n",
    "from sklearn.feature_extraction.text import TfidfVectorizer\n",
    "from sklearn.linear_model import LogisticRegression\n",
    "from sklearn.metrics import accuracy_score, classification_report\n",
    "from torch.utils.data import Dataset, DataLoader\n",
    "from transformers import BertTokenizer, BertForSequenceClassification, Trainer, TrainingArguments"
   ]
  },
  {
   "cell_type": "code",
   "execution_count": null,
   "metadata": {
    "vscode": {
     "languageId": "plaintext"
    }
   },
   "outputs": [],
   "source": [
    "class TextDataset(Dataset):\n",
    "    def __init__(self, texts, labels, tokenizer, max_len):\n",
    "        self.texts = texts\n",
    "        self.labels = labels\n",
    "        self.tokenizer = tokenizer\n",
    "        self.max_len = max_len\n",
    "\n",
    "    def __len__(self):\n",
    "        return len(self.texts)\n",
    "\n",
    "    def __getitem__(self, item):\n",
    "        text = str(self.texts[item])\n",
    "        encoding = self.tokenizer.encode_plus(\n",
    "            text,\n",
    "            None,\n",
    "            add_special_tokens=True,\n",
    "            max_length=self.max_len,\n",
    "            padding='max_length',\n",
    "            return_attention_mask=True,\n",
    "            return_tensors='pt'\n",
    "        )\n",
    "\n",
    "        return {\n",
    "            'input_ids': encoding['input_ids'].flatten(),\n",
    "            'attention_mask': encoding['attention_mask'].flatten(),\n",
    "            'labels': torch.tensor(self.labels[item], dtype=torch.long)\n",
    "        }"
   ]
  },
  {
   "cell_type": "code",
   "execution_count": null,
   "metadata": {
    "vscode": {
     "languageId": "plaintext"
    }
   },
   "outputs": [],
   "source": [
    "def create_dataset(df, tokenizer, max_len):\n",
    "    dataset = TextDataset(\n",
    "        texts=df.text.to_numpy(),\n",
    "        labels=df.target.to_numpy(),\n",
    "        tokenizer=tokenizer,\n",
    "        max_len=max_len\n",
    "    )\n",
    "    return dataset"
   ]
  },
  {
   "cell_type": "code",
   "execution_count": null,
   "metadata": {
    "vscode": {
     "languageId": "plaintext"
    }
   },
   "outputs": [],
   "source": [
    "def train_model(df, model_name, num_classes, max_len, batch_size, epochs, learning_rate):\n",
    "    tokenizer = BertTokenizer.from_pretrained(model_name)\n",
    "    \n",
    "    # Split the dataset into training and validation\n",
    "    train_df, val_df = df[:int(0.9*len(df))], df[int(0.9*len(df)):]\n",
    "\n",
    "    train_dataset = create_dataset(train_df, tokenizer, max_len)\n",
    "    val_dataset = create_dataset(val_df, tokenizer, max_len)\n",
    "\n",
    "    train_loader = DataLoader(train_dataset, batch_size=batch_size, shuffle=True)\n",
    "    val_loader = DataLoader(val_dataset, batch_size=batch_size, shuffle=False)\n",
    "\n",
    "    model = BertForSequenceClassification.from_pretrained(model_name, num_labels=num_classes)\n",
    "    optimizer = torch.optim.AdamW(model.parameters(), lr=learning_rate)\n",
    "\n",
    "    training_args = TrainingArguments(\n",
    "        output_dir='./results',\n",
    "        num_train_epochs=epochs,\n",
    "        per_device_train_batch_size=batch_size,\n",
    "        evaluation_strategy='epoch',\n",
    "        learning_rate=learning_rate,\n",
    "        weight_decay=0.01,\n",
    "        logging_dir='./logs',\n",
    "        logging_steps=10,\n",
    "        save_steps=1000,\n",
    "        save_total_limit=2,  # Only save the last 2 checkpoints\n",
    "        eval_steps=500  # Interval for evaluation\n",
    "    )\n",
    "\n",
    "    trainer = Trainer(\n",
    "        model=model,\n",
    "        args=training_args,\n",
    "        train_dataset=train_dataset,\n",
    "        eval_dataset=val_dataset  # Provide the validation dataset\n",
    "    )\n",
    "\n",
    "    trainer.train()\n",
    "    model.save_pretrained(f\"./models/{model_name}_{num_classes}.bin\")"
   ]
  },
  {
   "cell_type": "code",
   "execution_count": null,
   "metadata": {
    "vscode": {
     "languageId": "plaintext"
    }
   },
   "outputs": [],
   "source": [
    "def evaluate_model(df, model_name, max_len, batch_size):\n",
    "    tokenizer = BertTokenizer.from_pretrained(model_name)\n",
    "    test_dataset = create_dataset(df, tokenizer, max_len)\n",
    "    test_loader = DataLoader(test_dataset, batch_size=batch_size)\n",
    "\n",
    "    model = BertForSequenceClassification.from_pretrained(model_name)\n",
    "    model.eval()\n",
    "\n",
    "    predictions, true_labels = [], []\n",
    "    with torch.no_grad():\n",
    "        for batch in test_loader:\n",
    "            input_ids = batch['input_ids']\n",
    "            attention_mask = batch['attention_mask']\n",
    "            labels = batch['labels']\n",
    "\n",
    "            outputs = model(input_ids, attention_mask=attention_mask)\n",
    "            logits = outputs.logits\n",
    "            predictions.extend(torch.argmax(logits, dim=1).tolist())\n",
    "            true_labels.extend(labels.tolist())\n",
    "\n",
    "    return pd.DataFrame({\n",
    "        'true_label': true_labels,\n",
    "        'predicted_label': predictions\n",
    "    })"
   ]
  },
  {
   "cell_type": "code",
   "execution_count": null,
   "metadata": {
    "vscode": {
     "languageId": "plaintext"
    }
   },
   "outputs": [],
   "source": [
    "def train_sentiment_analysis(df):\n",
    "    model_name = 'bert-base-uncased'\n",
    "    num_classes = 2\n",
    "    max_len = 160\n",
    "    batch_size = 32\n",
    "    epochs = 4\n",
    "    learning_rate = 2e-5\n",
    "\n",
    "    train_model(df, model_name, num_classes, max_len, batch_size, epochs, learning_rate)"
   ]
  },
  {
   "cell_type": "code",
   "execution_count": null,
   "metadata": {
    "vscode": {
     "languageId": "plaintext"
    }
   },
   "outputs": [],
   "source": [
    "def train_spam_detection(df):\n",
    "    model_name = 'bert-base-uncased'\n",
    "    num_classes = 2\n",
    "    max_len = 160\n",
    "    batch_size = 32\n",
    "    epochs = 4\n",
    "    learning_rate = 2e-5\n",
    "\n",
    "    train_model(df, model_name, num_classes, max_len, batch_size, epochs, learning_rate)"
   ]
  },
  {
   "cell_type": "code",
   "execution_count": null,
   "metadata": {
    "vscode": {
     "languageId": "plaintext"
    }
   },
   "outputs": [],
   "source": [
    "def train_topic_categorization(df):\n",
    "    model_name = 'bert-base-uncased'\n",
    "    num_classes = len(df['text'].unique())  # Assuming one class per unique text\n",
    "    max_len = 160\n",
    "    batch_size = 32\n",
    "    epochs = 4\n",
    "    learning_rate = 2e-5\n",
    "\n",
    "    train_model(df, model_name, num_classes, max_len, batch_size, epochs, learning_rate)"
   ]
  },
  {
   "cell_type": "code",
   "execution_count": null,
   "metadata": {
    "vscode": {
     "languageId": "plaintext"
    }
   },
   "outputs": [],
   "source": [
    "def experiment_1(df):\n",
    "    # Baseline Model using TF-IDF and Logistic Regression\n",
    "    texts = df['text'].values\n",
    "    labels = df['target'].values\n",
    "    \n",
    "    # TF-IDF Vectorization\n",
    "    vectorizer = TfidfVectorizer(max_features=5000)\n",
    "    X = vectorizer.fit_transform(texts)\n",
    "    \n",
    "    # Logistic Regression model\n",
    "    model = LogisticRegression(solver='liblinear')\n",
    "    model.fit(X, labels)\n",
    "    \n",
    "    # Predictions\n",
    "    predictions = model.predict(X)\n",
    "    \n",
    "    # Evaluation\n",
    "    accuracy = accuracy_score(labels, predictions)\n",
    "    report = classification_report(labels, predictions)\n",
    "    print(f\"Experiment 1 Results:\\n{report}\")"
   ]
  },
  {
   "cell_type": "code",
   "execution_count": null,
   "metadata": {
    "vscode": {
     "languageId": "plaintext"
    }
   },
   "outputs": [],
   "source": [
    "if __name__ == '__main__':\n",
    "    # Sentiment Analysis\n",
    "    sentiment_df = pd.read_csv(\"DL_repo/data/processed/sentiment_analysis_processed.csv\")\n",
    "    train_sentiment_analysis(sentiment_df)\n",
    "\n",
    "    # Spam Detection\n",
    "    spam_df = pd.read_csv(\"DL_repo/data/processed/spam_detection_processed.csv\")\n",
    "    train_spam_detection(spam_df)\n",
    "\n",
    "    # Topic Categorization\n",
    "    topic_df = pd.read_csv(\"DL_repo/data/processed/topic_categorization_processed.csv\")\n",
    "    train_topic_categorization(topic_df)\n",
    "\n",
    "    # Run Experiment 1\n",
    "    experiment_1(sentiment_df)"
   ]
  }
 ],
 "metadata": {
  "language_info": {
   "name": "python"
  }
 },
 "nbformat": 4,
 "nbformat_minor": 2
}
