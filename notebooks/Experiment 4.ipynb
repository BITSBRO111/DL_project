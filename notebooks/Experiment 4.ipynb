{
 "cells": [
  {
   "cell_type": "code",
   "execution_count": null,
   "metadata": {
    "vscode": {
     "languageId": "plaintext"
    }
   },
   "outputs": [],
   "source": [
    "import pandas as pd\n",
    "from your_module import evaluate_model\n",
    "\n",
    "def experiment_4(df):\n",
    "    # Evaluation of Model Performance\n",
    "    model_name = 'bert-base-uncased'\n",
    "    max_len = 160\n",
    "    batch_size = 32\n",
    "\n",
    "    # Split the dataset into training and validation\n",
    "    train_df, val_df = df[:int(0.9*len(df))], df[int(0.9*len(df)):]\n",
    "\n",
    "    # Train the model\n",
    "    train_model(train_df, model_name, num_classes=2, max_len=max_len, batch_size=batch_size, epochs=4, learning_rate=2e-5)\n",
    "\n",
    "    # Evaluate the model on the validation set\n",
    "    eval_results = evaluate_model(val_df, model_name, max_len, batch_size)\n",
    "    \n",
    "    accuracy = accuracy_score(eval_results['true_label'], eval_results['predicted_label'])\n",
    "    report = classification_report(eval_results['true_label'], eval_results['predicted_label'])\n",
    "    print(f\"Experiment 4 Results:\\n{report}\")\n",
    "\n",
    "if __name__ == '__main__':\n",
    "    sentiment_df = pd.read_csv(\"DL_repo/data/processed/sentiment_analysis_processed.csv\")\n",
    "    experiment_4(sentiment_df)\n"
   ]
  }
 ],
 "metadata": {
  "language_info": {
   "name": "python"
  }
 },
 "nbformat": 4,
 "nbformat_minor": 2
}
